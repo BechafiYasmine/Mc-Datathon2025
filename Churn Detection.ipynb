{
 "cells": [
  {
   "cell_type": "code",
   "execution_count": 1,
   "id": "a0401c01",
   "metadata": {
    "execution": {
     "iopub.execute_input": "2025-07-22T02:14:28.343389Z",
     "iopub.status.busy": "2025-07-22T02:14:28.342927Z",
     "iopub.status.idle": "2025-07-22T02:14:37.404370Z",
     "shell.execute_reply": "2025-07-22T02:14:37.403292Z"
    },
    "papermill": {
     "duration": 9.066642,
     "end_time": "2025-07-22T02:14:37.406188",
     "exception": false,
     "start_time": "2025-07-22T02:14:28.339546",
     "status": "completed"
    },
    "tags": []
   },
   "outputs": [
    {
     "name": "stdout",
     "output_type": "stream",
     "text": [
      "[LightGBM] [Info] Number of positive: 1495, number of negative: 4139\n",
      "[LightGBM] [Info] Auto-choosing row-wise multi-threading, the overhead of testing was 0.002414 seconds.\n",
      "You can set `force_row_wise=true` to remove the overhead.\n",
      "And if memory is not enough, you can set `force_col_wise=true`.\n",
      "[LightGBM] [Info] Total Bins 626\n",
      "[LightGBM] [Info] Number of data points in the train set: 5634, number of used features: 19\n",
      "[LightGBM] [Info] [binary:BoostFromScore]: pavg=0.500000 -> initscore=0.000000\n",
      "[LightGBM] [Info] Start training from score 0.000000\n",
      "🧪 test_ids sample: [0 1 2 3 4]\n",
      "🧪 final_preds sample: [0 1 0 1 0]\n",
      "✅ Lengths match: True\n"
     ]
    }
   ],
   "source": [
    "# 📦 Importation des bibliothèques nécessaires\n",
    "import pandas as pd                 # Pour manipuler les données tabulaires (DataFrames)\n",
    "import numpy as np                  # Pour les opérations mathématiques (non utilisé ici mais souvent utile)\n",
    "from sklearn.preprocessing import LabelEncoder  # Pour convertir les colonnes catégorielles en nombres\n",
    "from lightgbm import LGBMClassifier # Modèle de classification rapide et puissant\n",
    "\n",
    "# 📥 Chargement des jeux de données d'entraînement et de test\n",
    "train = pd.read_csv('/kaggle/input/churn-detection/train.csv')  # Données avec la colonne cible \"Churn\"\n",
    "test = pd.read_csv('/kaggle/input/churn-detection/test.csv')    # Données sans la colonne cible\n",
    "\n",
    "# 🔖 Sauvegarder les IDs pour les réutiliser dans la soumission finale\n",
    "test_ids = test['id'].copy()\n",
    "\n",
    "# 🧠 Conversion de la cible \"Churn\" de texte à binaire : 'Yes' → 1, 'No' → 0\n",
    "train['Churn'] = train['Churn'].map({'Yes': 1, 'No': 0})\n",
    "\n",
    "# 🔢 Conversion de la colonne TotalCharges en numérique (peut contenir du texte vide ou invalide)\n",
    "train['TotalCharges'] = pd.to_numeric(train['TotalCharges'], errors='coerce').fillna(0)\n",
    "test['TotalCharges'] = pd.to_numeric(test['TotalCharges'], errors='coerce').fillna(0)\n",
    "\n",
    "# 🔍 Identification des colonnes de type \"objet\" (texte) à encoder\n",
    "cat_cols = train.select_dtypes(include='object').columns.tolist()\n",
    "\n",
    "# 🔁 Encodage des colonnes catégorielles en nombres avec LabelEncoder (même encodage pour train et test)\n",
    "for col in cat_cols:\n",
    "    le = LabelEncoder()\n",
    "    combined = pd.concat([train[col], test[col]]).astype(str)  # Combinaison pour éviter des valeurs inconnues\n",
    "    le.fit(combined)                                           # Apprentissage des étiquettes\n",
    "    train[col] = le.transform(train[col].astype(str))          # Transformation sur le train\n",
    "    test[col] = le.transform(test[col].astype(str))            # Transformation sur le test\n",
    "\n",
    "# 🧮 Séparation des features (X) et de la cible (y) dans les données d'entraînement\n",
    "X = train.drop(columns=[\"id\", \"Churn\"])  # On enlève l'ID et la cible\n",
    "y = train[\"Churn\"]                       # La colonne cible\n",
    "X_test = test.drop(columns=[\"id\"])       # On enlève juste l'ID pour les prédictions\n",
    "\n",
    "# ⚙️ Création et entraînement du modèle LightGBM\n",
    "model = LGBMClassifier(\n",
    "    random_state=42,       # Pour avoir les mêmes résultats à chaque exécution\n",
    "    class_weight=\"balanced\",  # Gère les classes déséquilibrées automatiquement\n",
    "    n_estimators=100       # Nombre d’arbres (plus = meilleur mais plus lent)\n",
    ")\n",
    "model.fit(X, y)  # Entraînement du modèle\n",
    "\n",
    "# 📊 Prédictions : on récupère les probabilités de la classe \"1\" (churn = Yes)\n",
    "probs = model.predict_proba(X_test)[:, 1]  # Probabilité que le client parte (churn)\n",
    "\n",
    "# 🟢🟥 Transformation en classe 1 (Yes) ou 0 (No) selon un seuil de 0.5\n",
    "final_preds = (probs > 0.5).astype(int)\n",
    "\n",
    "# 🔄 Re-conversion des résultats binaires en texte \"Yes\"/\"No\" pour respecter le format du concours\n",
    "churn_labels = pd.Series(final_preds).map({1: \"Yes\", 0: \"No\"})\n",
    "\n",
    "# 💾 Création du fichier de soumission\n",
    "submission = pd.DataFrame({\n",
    "    \"id\": test_ids.astype(int),   # Les identifiants des clients\n",
    "    \"Churn\": churn_labels         # Les prédictions sous forme de texte\n",
    "})\n",
    "\n",
    "# 💽 Export du fichier final au format CSV sans index\n",
    "submission.to_csv(\"submission.csv\", index=False)\n",
    "\n",
    "# 🧪 Vérifications pour s’assurer que tout est correct\n",
    "print(\"🧪 test_ids sample:\", test_ids[:5].values)         # Affiche les premiers IDs\n",
    "print(\"🧪 final_preds sample:\", final_preds[:5])         # Affiche les premières prédictions numériques\n",
    "print(\"✅ Lengths match:\", len(test_ids) == len(final_preds))  # Vérifie que les longueurs correspondent\n"
   ]
  },
  {
   "cell_type": "code",
   "execution_count": 2,
   "id": "0e4f2245",
   "metadata": {
    "execution": {
     "iopub.execute_input": "2025-07-22T02:14:37.411385Z",
     "iopub.status.busy": "2025-07-22T02:14:37.410740Z",
     "iopub.status.idle": "2025-07-22T02:14:37.416363Z",
     "shell.execute_reply": "2025-07-22T02:14:37.415476Z"
    },
    "papermill": {
     "duration": 0.009362,
     "end_time": "2025-07-22T02:14:37.417595",
     "exception": false,
     "start_time": "2025-07-22T02:14:37.408233",
     "status": "completed"
    },
    "tags": []
   },
   "outputs": [
    {
     "name": "stdout",
     "output_type": "stream",
     "text": [
      "🧪 test_ids sample: [0 1 2 3 4]\n",
      "🧪 final_preds sample: [0 1 0 1 0]\n",
      "✅ Lengths match: True\n"
     ]
    }
   ],
   "source": [
    "print(\"🧪 test_ids sample:\", test_ids[:5].values)\n",
    "print(\"🧪 final_preds sample:\", final_preds[:5])\n",
    "print(\"✅ Lengths match:\", len(test_ids) == len(final_preds))\n",
    "\n"
   ]
  }
 ],
 "metadata": {
  "kaggle": {
   "accelerator": "none",
   "dataSources": [
    {
     "databundleVersionId": 13104264,
     "sourceId": 108146,
     "sourceType": "competition"
    }
   ],
   "dockerImageVersionId": 31089,
   "isGpuEnabled": false,
   "isInternetEnabled": false,
   "language": "python",
   "sourceType": "notebook"
  },
  "kernelspec": {
   "display_name": "Python 3",
   "language": "python",
   "name": "python3"
  },
  "language_info": {
   "codemirror_mode": {
    "name": "ipython",
    "version": 3
   },
   "file_extension": ".py",
   "mimetype": "text/x-python",
   "name": "python",
   "nbconvert_exporter": "python",
   "pygments_lexer": "ipython3",
   "version": "3.11.13"
  },
  "papermill": {
   "default_parameters": {},
   "duration": 14.654972,
   "end_time": "2025-07-22T02:14:38.339171",
   "environment_variables": {},
   "exception": null,
   "input_path": "__notebook__.ipynb",
   "output_path": "__notebook__.ipynb",
   "parameters": {},
   "start_time": "2025-07-22T02:14:23.684199",
   "version": "2.6.0"
  }
 },
 "nbformat": 4,
 "nbformat_minor": 5
}
