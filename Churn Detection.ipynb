{
 "cells": [
  {
   "cell_type": "code",
   "execution_count": null,
   "id": "fe03344f",
   "metadata": {
    "papermill": {
     "duration": 0.002313,
     "end_time": "2025-07-23T18:33:26.107367",
     "exception": false,
     "start_time": "2025-07-23T18:33:26.105054",
     "status": "completed"
    },
    "tags": []
   },
   "outputs": [],
   "source": []
  },
  {
   "cell_type": "code",
   "execution_count": 1,
   "id": "f39032e1",
   "metadata": {
    "_cell_guid": "b1076dfc-b9ad-4769-8c92-a6c4dae69d19",
    "_uuid": "8f2839f25d086af736a60e9eeb907d3b93b6e0e5",
    "execution": {
     "iopub.execute_input": "2025-07-23T18:33:26.112862Z",
     "iopub.status.busy": "2025-07-23T18:33:26.111869Z",
     "iopub.status.idle": "2025-07-23T18:33:37.022425Z",
     "shell.execute_reply": "2025-07-23T18:33:37.021223Z"
    },
    "papermill": {
     "duration": 10.914823,
     "end_time": "2025-07-23T18:33:37.024109",
     "exception": false,
     "start_time": "2025-07-23T18:33:26.109286",
     "status": "completed"
    },
    "tags": []
   },
   "outputs": [
    {
     "name": "stdout",
     "output_type": "stream",
     "text": [
      "[LightGBM] [Info] Number of positive: 1495, number of negative: 4139\n",
      "[LightGBM] [Info] Auto-choosing row-wise multi-threading, the overhead of testing was 0.003101 seconds.\n",
      "You can set `force_row_wise=true` to remove the overhead.\n",
      "And if memory is not enough, you can set `force_col_wise=true`.\n",
      "[LightGBM] [Info] Total Bins 626\n",
      "[LightGBM] [Info] Number of data points in the train set: 5634, number of used features: 19\n",
      "[LightGBM] [Info] [binary:BoostFromScore]: pavg=0.500000 -> initscore=0.000000\n",
      "[LightGBM] [Info] Start training from score 0.000000\n",
      "✅ submission.csv generated!\n",
      "   id Churn\n",
      "0   0    No\n",
      "1   1   Yes\n",
      "2   2    No\n",
      "3   3   Yes\n",
      "4   4    No\n"
     ]
    }
   ],
   "source": [
    "# 📦 Import libraries\n",
    "import pandas as pd\n",
    "import numpy as np\n",
    "from sklearn.preprocessing import LabelEncoder\n",
    "from lightgbm import LGBMClassifier\n",
    "\n",
    "# 📥 Load datasets (make sure path is correct and competition is added to your notebook)\n",
    "train = pd.read_csv('/kaggle/input/mc-datathon-2025-churn-detection/train.csv')\n",
    "test = pd.read_csv('/kaggle/input/mc-datathon-2025-churn-detection/test.csv')\n",
    "\n",
    "# 🔖 Save test IDs for final submission\n",
    "test_ids = test['id'].copy()\n",
    "\n",
    "# 🧠 Convert target 'Churn' to binary\n",
    "train['Churn'] = train['Churn'].map({'Yes': 1, 'No': 0})\n",
    "\n",
    "# 🔢 Convert 'TotalCharges' to numeric (handle missing/invalid)\n",
    "train['TotalCharges'] = pd.to_numeric(train['TotalCharges'], errors='coerce').fillna(0)\n",
    "test['TotalCharges'] = pd.to_numeric(test['TotalCharges'], errors='coerce').fillna(0)\n",
    "\n",
    "# 🔍 Identify categorical columns to encode\n",
    "cat_cols = train.select_dtypes(include='object').columns.tolist()\n",
    "\n",
    "# 🔁 Label encode categorical columns\n",
    "for col in cat_cols:\n",
    "    le = LabelEncoder()\n",
    "    combined = pd.concat([train[col], test[col]]).astype(str)\n",
    "    le.fit(combined)\n",
    "    train[col] = le.transform(train[col].astype(str))\n",
    "    test[col] = le.transform(test[col].astype(str))\n",
    "\n",
    "# 🧪 Prepare features and labels\n",
    "X = train.drop(columns=['id', 'Churn'])\n",
    "y = train['Churn']\n",
    "X_test = test.drop(columns=['id'])\n",
    "\n",
    "# ⚙️ Train LightGBM model\n",
    "model = LGBMClassifier(\n",
    "    random_state=42,\n",
    "    class_weight='balanced',\n",
    "    n_estimators=100\n",
    ")\n",
    "model.fit(X, y)\n",
    "\n",
    "# 📊 Predict probabilities for class \"Yes\"\n",
    "probs = model.predict_proba(X_test)[:, 1]\n",
    "\n",
    "# 🟢🟥 Convert probabilities to binary predictions (threshold 0.5)\n",
    "final_preds = (probs > 0.5).astype(int)\n",
    "\n",
    "# 🔄 Map predictions back to \"Yes\"/\"No\"\n",
    "churn_labels = pd.Series(final_preds).map({1: \"Yes\", 0: \"No\"})\n",
    "\n",
    "# 💾 Create submission DataFrame\n",
    "submission = pd.DataFrame({\n",
    "    \"id\": test_ids,\n",
    "    \"Churn\": churn_labels\n",
    "})\n",
    "\n",
    "# ✅ Save submission to Kaggle's output directory\n",
    "submission.to_csv(\"/kaggle/working/submission.csv\", index=False)\n",
    "\n",
    "# 🔍 Optional: Show a preview\n",
    "print(\"✅ submission.csv generated!\")\n",
    "print(submission.head())\n"
   ]
  }
 ],
 "metadata": {
  "kaggle": {
   "accelerator": "none",
   "dataSources": [
    {
     "databundleVersionId": 13146434,
     "sourceId": 108445,
     "sourceType": "competition"
    }
   ],
   "dockerImageVersionId": 31089,
   "isGpuEnabled": false,
   "isInternetEnabled": false,
   "language": "python",
   "sourceType": "notebook"
  },
  "kernelspec": {
   "display_name": "Python 3",
   "language": "python",
   "name": "python3"
  },
  "language_info": {
   "codemirror_mode": {
    "name": "ipython",
    "version": 3
   },
   "file_extension": ".py",
   "mimetype": "text/x-python",
   "name": "python",
   "nbconvert_exporter": "python",
   "pygments_lexer": "ipython3",
   "version": "3.11.13"
  },
  "papermill": {
   "default_parameters": {},
   "duration": 17.197409,
   "end_time": "2025-07-23T18:33:38.047399",
   "environment_variables": {},
   "exception": null,
   "input_path": "__notebook__.ipynb",
   "output_path": "__notebook__.ipynb",
   "parameters": {},
   "start_time": "2025-07-23T18:33:20.849990",
   "version": "2.6.0"
  }
 },
 "nbformat": 4,
 "nbformat_minor": 5
}
