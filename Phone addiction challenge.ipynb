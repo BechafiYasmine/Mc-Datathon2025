{
 "cells": [
  {
   "cell_type": "code",
   "execution_count": 1,
   "id": "8b6e9990",
   "metadata": {
    "_cell_guid": "b1076dfc-b9ad-4769-8c92-a6c4dae69d19",
    "_uuid": "8f2839f25d086af736a60e9eeb907d3b93b6e0e5",
    "execution": {
     "iopub.execute_input": "2025-07-23T18:58:49.978840Z",
     "iopub.status.busy": "2025-07-23T18:58:49.978368Z",
     "iopub.status.idle": "2025-07-23T19:03:26.077108Z",
     "shell.execute_reply": "2025-07-23T19:03:26.076165Z"
    },
    "papermill": {
     "duration": 276.104264,
     "end_time": "2025-07-23T19:03:26.078807",
     "exception": false,
     "start_time": "2025-07-23T18:58:49.974543",
     "status": "completed"
    },
    "tags": []
   },
   "outputs": [
    {
     "name": "stdout",
     "output_type": "stream",
     "text": [
      "Cross-validated RMSE: 0.33886 ± 0.01455\n",
      "✅ Submission ready! Click below to download:\n"
     ]
    },
    {
     "data": {
      "text/html": [
       "<a href='submission.csv' target='_blank'>submission.csv</a><br>"
      ],
      "text/plain": [
       "/kaggle/working/submission.csv"
      ]
     },
     "execution_count": 1,
     "metadata": {},
     "output_type": "execute_result"
    }
   ],
   "source": [
    "# 📦 Step 1: Import libraries\n",
    "import pandas as pd\n",
    "import numpy as np\n",
    "from sklearn.preprocessing import OneHotEncoder, StandardScaler, QuantileTransformer\n",
    "from sklearn.compose import ColumnTransformer\n",
    "from sklearn.pipeline import Pipeline\n",
    "from sklearn.model_selection import cross_val_score\n",
    "from xgboost import XGBRegressor\n",
    "from lightgbm import LGBMRegressor\n",
    "from sklearn.ensemble import StackingRegressor\n",
    "from sklearn.linear_model import ElasticNet\n",
    "from IPython.display import FileLink\n",
    "\n",
    "# ✅ Step 2: Load correct files\n",
    "train = pd.read_csv('/kaggle/input/mc-datathon-2025-phone-addiction/train.csv')\n",
    "test = pd.read_csv('/kaggle/input/mc-datathon-2025-phone-addiction/test.csv')\n",
    "\n",
    "# 🧠 Step 3: Feature engineering\n",
    "for df in [train, test]:\n",
    "    df['Social_Edu_Ratio'] = np.log1p(df['Time_on_Social_Media']) / np.log1p(df['Time_on_Education'] + 0.01)\n",
    "    df['Gaming_Usage_Ratio'] = np.log1p(df['Time_on_Gaming'] + 1) / np.log1p(df['Daily_Usage_Hours'] + 1)\n",
    "    df['Mental_Health_Index'] = 0.5 * df['Anxiety_Level'] + 0.5 * df['Depression_Level']\n",
    "    df['Parental_Sleep_Effect'] = df['Parental_Control'] * np.sqrt(df['Sleep_Hours'])\n",
    "    df['Academic_Efficiency'] = df['Academic_Performance'] / (df['Daily_Usage_Hours'] + 1)\n",
    "    df['Social_Productivity'] = df['Social_Interactions'] / (df['Time_on_Social_Media'] + 0.1)\n",
    "\n",
    "# 🔢 Step 4: Feature types\n",
    "categorical_cols = ['Gender', 'Location', 'School_Grade', 'Phone_Usage_Purpose']\n",
    "numerical_cols = [col for col in train.columns if col not in ['id', 'Name', 'Addiction_Level'] + categorical_cols]\n",
    "\n",
    "# 🧼 Step 5: Preprocessing\n",
    "preprocessor = ColumnTransformer([\n",
    "    ('num', Pipeline([\n",
    "        ('quantile', QuantileTransformer(output_distribution='normal')),\n",
    "        ('scaler', StandardScaler())\n",
    "    ]), numerical_cols),\n",
    "    ('cat', OneHotEncoder(handle_unknown='ignore', sparse_output=False), categorical_cols)\n",
    "])\n",
    "\n",
    "# 🤖 Step 6: Model setup\n",
    "base_models = [\n",
    "    ('xgb', XGBRegressor(\n",
    "        n_estimators=1200,\n",
    "        learning_rate=0.008,\n",
    "        max_depth=4,\n",
    "        subsample=0.75,\n",
    "        colsample_bytree=0.65,\n",
    "        gamma=0.2,\n",
    "        random_state=42,\n",
    "        tree_method='hist'\n",
    "    )),\n",
    "    ('lgbm', LGBMRegressor(\n",
    "        n_estimators=1800,\n",
    "        learning_rate=0.006,\n",
    "        num_leaves=25,\n",
    "        feature_fraction=0.65,\n",
    "        bagging_fraction=0.8,\n",
    "        bagging_freq=6,\n",
    "        min_data_in_leaf=20,\n",
    "        random_state=42,\n",
    "        verbose=-1\n",
    "    ))\n",
    "]\n",
    "\n",
    "final_estimator = ElasticNet(alpha=0.0005, l1_ratio=0.75, random_state=42, max_iter=2000)\n",
    "\n",
    "model = Pipeline([\n",
    "    ('preprocessor', preprocessor),\n",
    "    ('ensemble', StackingRegressor(\n",
    "        estimators=base_models,\n",
    "        final_estimator=final_estimator,\n",
    "        cv=7,\n",
    "        n_jobs=-1,\n",
    "        passthrough=True\n",
    "    ))\n",
    "])\n",
    "\n",
    "# 🎯 Step 7: Training\n",
    "X = train.drop(['id', 'Name', 'Addiction_Level'], axis=1)\n",
    "y = train['Addiction_Level']\n",
    "\n",
    "scores = -cross_val_score(model, X, y, cv=7, scoring='neg_mean_squared_error', n_jobs=-1)\n",
    "print(f\"Cross-validated RMSE: {np.mean(np.sqrt(scores)):.5f} ± {np.std(np.sqrt(scores)):.5f}\")\n",
    "\n",
    "model.fit(X, y)\n",
    "\n",
    "# 📈 Step 8: Predictions\n",
    "X_test = test.drop(['id', 'Name'], axis=1)\n",
    "preds = model.predict(X_test)\n",
    "preds = np.clip(preds, train['Addiction_Level'].min() * 0.95, train['Addiction_Level'].max() * 1.05)\n",
    "\n",
    "# 💾 Step 9: Create submission\n",
    "submission = pd.DataFrame({\n",
    "    'id': test['id'],\n",
    "    'Addiction_Level': preds\n",
    "})\n",
    "submission.to_csv('submission.csv', index=False)\n",
    "\n",
    "# 🔗 Step 10: Download link\n",
    "print(\"✅ Submission ready! Click below to download:\")\n",
    "FileLink('submission.csv')\n"
   ]
  }
 ],
 "metadata": {
  "kaggle": {
   "accelerator": "none",
   "dataSources": [
    {
     "databundleVersionId": 13146392,
     "sourceId": 108444,
     "sourceType": "competition"
    }
   ],
   "dockerImageVersionId": 31089,
   "isGpuEnabled": false,
   "isInternetEnabled": false,
   "language": "python",
   "sourceType": "notebook"
  },
  "kernelspec": {
   "display_name": "Python 3",
   "language": "python",
   "name": "python3"
  },
  "language_info": {
   "codemirror_mode": {
    "name": "ipython",
    "version": 3
   },
   "file_extension": ".py",
   "mimetype": "text/x-python",
   "name": "python",
   "nbconvert_exporter": "python",
   "pygments_lexer": "ipython3",
   "version": "3.11.13"
  },
  "papermill": {
   "default_parameters": {},
   "duration": 284.071778,
   "end_time": "2025-07-23T19:03:28.701623",
   "environment_variables": {},
   "exception": null,
   "input_path": "__notebook__.ipynb",
   "output_path": "__notebook__.ipynb",
   "parameters": {},
   "start_time": "2025-07-23T18:58:44.629845",
   "version": "2.6.0"
  }
 },
 "nbformat": 4,
 "nbformat_minor": 5
}
